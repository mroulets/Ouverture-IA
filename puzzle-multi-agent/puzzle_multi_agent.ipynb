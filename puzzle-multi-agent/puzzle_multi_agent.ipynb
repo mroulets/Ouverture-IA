{
 "cells": [
  {
   "cell_type": "code",
   "execution_count": 1,
   "metadata": {},
   "outputs": [],
   "source": [
    "import numpy as np\n",
    "import random\n",
    "import re\n",
    "import time\n",
    "from threading import Thread, Semaphore"
   ]
  },
  {
   "cell_type": "code",
   "execution_count": 4,
   "metadata": {},
   "outputs": [],
   "source": [
    "class Puzzle:\n",
    "    agents = []\n",
    "    grid = []\n",
    "    # initialize the board with the size of the puzzle  \n",
    "    def __init__(self, row_size, fullfilness):\n",
    "        self.fullfilness = fullfilness/100\n",
    "        self.row_size = self.col_size = Puzzle.row_size = Puzzle.col_size= row_size\n",
    "        self.grid_size = self.row_size ** 2\n",
    "        \n",
    "        # randomly generate the position of the agents and values\n",
    "        pos = [(row,col) for row in range(0,self.row_size) for col in range(0,self.col_size)]\n",
    "        self.max_agents = self.grid_size-1\n",
    "        self.nbAgents = int(self.max_agents * self.fullfilness)\n",
    "        \n",
    "        self.target = random.sample(pos, k=self.nbAgents)\n",
    "        self.position = random.sample(pos, k=self.nbAgents)\n",
    "        \n",
    "        Puzzle.grid = [[None for _ in range(self.col_size)] for _ in range(self.row_size)]\n",
    "    \n",
    "    def showGrid():\n",
    "        print(\"\\n\".join([' '.join(list(map(str,x))) for x in Puzzle.grid]))\n",
    " \n",
    " \n",
    "               \n",
    "class Agent(Thread): \n",
    "    \n",
    "    semaphore = Semaphore(1)\n",
    "    \n",
    "    def __init__(self, current_postition, target_position):\n",
    "        Thread.__init__(self)\n",
    "        self.current_position = current_postition\n",
    "        self.target_position = target_position\n",
    "        Puzzle.grid[self.current_position[0]][self.current_position[1]] = self\n",
    "        Puzzle.agents.append(self)\n",
    "        self.running = True\n",
    "        \n",
    "    def run(self):\n",
    "        while self.running:\n",
    "            self.semaphore.acquire()\n",
    "            self.move_agent()\n",
    "            self.semaphore.release()\n",
    "            time.sleep(0.01)\n",
    "            \n",
    "    def move_agent(self):\n",
    "        neighbors = self.get_neighbors()\n",
    "        \n",
    "        for neighbor, pos in neighbors:\n",
    "            if neighbor == None:\n",
    "                current_position = self.current_position\n",
    "                self.current_position = pos\n",
    "                Puzzle.grid[self.current_position[0]][self.current_position[1]] = self\n",
    "                Puzzle.grid[current_position[0]][current_position[1]] = None  \n",
    "                return\n",
    "            \n",
    "\n",
    "    def get_neighbors(self):\n",
    "        row= self.current_position[0]\n",
    "        col= self.current_position[1]\n",
    "        \n",
    "        neighbors = []\n",
    "        if row > 0:\n",
    "            neighbors.append([Puzzle.grid[row-1][col], (row-1, col)])\n",
    "        if row < Puzzle.row_size-1:\n",
    "            neighbors.append([Puzzle.grid[row+1][col], (row+1, col)])\n",
    "        if col > 0:\n",
    "            neighbors.append([Puzzle.grid[row][col-1], (row, col-1)])\n",
    "        if col < Puzzle.col_size-1:\n",
    "            neighbors.append([Puzzle.grid[row][col+1], (row, col+1)])\n",
    "        return neighbors      \n",
    "    "
   ]
  },
  {
   "cell_type": "code",
   "execution_count": 5,
   "metadata": {},
   "outputs": [
    {
     "data": {
      "text/plain": [
       "[]"
      ]
     },
     "execution_count": 5,
     "metadata": {},
     "output_type": "execute_result"
    }
   ],
   "source": [
    "Puzzle.agents"
   ]
  },
  {
   "cell_type": "code",
   "execution_count": 7,
   "metadata": {},
   "outputs": [
    {
     "name": "stdout",
     "output_type": "stream",
     "text": [
      "<Agent(Thread-8, started 13239058432)> None <Agent(Thread-5, started 13188689920)>\n",
      "None <Agent(Thread-6, started 13205479424)> None\n",
      "<Agent(Thread-7, started 13222268928)> None None\n",
      "\n",
      "\n",
      "None <Agent(Thread-6, started 13205479424)> None\n",
      "<Agent(Thread-8, started 13239058432)> None <Agent(Thread-5, started 13188689920)>\n",
      "None <Agent(Thread-7, started 13222268928)> None\n",
      "\n",
      "\n",
      "None None None\n",
      "<Agent(Thread-7, started 13222268928)> <Agent(Thread-6, started 13205479424)> <Agent(Thread-8, started 13239058432)>\n",
      "None <Agent(Thread-5, started 13188689920)> None\n",
      "\n",
      "\n",
      "None None <Agent(Thread-5, started 13188689920)>\n",
      "<Agent(Thread-7, started 13222268928)> <Agent(Thread-8, started 13239058432)> None\n",
      "None <Agent(Thread-6, started 13205479424)> None\n",
      "\n",
      "\n",
      "None None <Agent(Thread-6, started 13205479424)>\n",
      "<Agent(Thread-8, started 13239058432)> <Agent(Thread-7, started 13222268928)> None\n",
      "<Agent(Thread-5, started 13188689920)> None None\n",
      "\n",
      "\n",
      "Timeout\n"
     ]
    }
   ],
   "source": [
    "Puzzle.agents = []\n",
    "Puzzle.grid=[]\n",
    "\n",
    "p = Puzzle(3, 30)\n",
    "for target, pos in zip(p.position, p.target):\n",
    "    Agent(pos, target)\n",
    "    \n",
    "\n",
    "for agent in Puzzle.agents:\n",
    "    agent.start()\n",
    "    \n",
    "max_time= 5 # seconds\n",
    "init_time = time.time()\n",
    "done = False\n",
    "\n",
    "while not done:\n",
    "    time.sleep(1)\n",
    "    Puzzle.showGrid()\n",
    "    print(\"\\n\")\n",
    "    \n",
    "    if time.time() - init_time > max_time:\n",
    "        done = True\n",
    "        print(\"Timeout\")"
   ]
  }
 ],
 "metadata": {
  "kernelspec": {
   "display_name": "Python 3.8.15 ('tortilla')",
   "language": "python",
   "name": "python3"
  },
  "language_info": {
   "codemirror_mode": {
    "name": "ipython",
    "version": 3
   },
   "file_extension": ".py",
   "mimetype": "text/x-python",
   "name": "python",
   "nbconvert_exporter": "python",
   "pygments_lexer": "ipython3",
   "version": "3.8.15"
  },
  "orig_nbformat": 4,
  "vscode": {
   "interpreter": {
    "hash": "5d1db8b5f421508859dcca9a6ff48651931839b518b205df7f9f12ab5b0dce3a"
   }
  }
 },
 "nbformat": 4,
 "nbformat_minor": 2
}
