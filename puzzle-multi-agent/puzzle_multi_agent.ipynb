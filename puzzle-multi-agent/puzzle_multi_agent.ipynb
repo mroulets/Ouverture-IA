{
 "cells": [
  {
   "cell_type": "code",
   "execution_count": 5,
   "metadata": {},
   "outputs": [],
   "source": [
    "import threading"
   ]
  },
  {
   "cell_type": "code",
   "execution_count": 39,
   "metadata": {},
   "outputs": [],
   "source": [
    "class Agent:\n",
    "    # size of the puzzle matrix\n",
    "    grid_size = None\n",
    "    def __init__(self, name, current_position, target_position, next_position):\n",
    "        self.name = name\n",
    "        self.current_position = current_position\n",
    "        self.target_position = target_position\n",
    "        self.next_position = next_position\n",
    "        \n",
    "    def describe(self):\n",
    "        print(f\"Agent {self.name} is at {self.current_position} and wants to go to {self.target_position}. The next position is {self.next_position}.\") \n",
    "         \n",
    "    # def to show grid of the game \n",
    "    def Grid(game=\"X\"):\n",
    "        # First row\n",
    "        for j in range(Agent.grid_size):\n",
    "            print(f\"| {j+1} \", end='')\n",
    "        print(\"| \")\n",
    "        print((Agent.grid_size*4+1)*\"-\")\n",
    "\n",
    "        # Other rows\n",
    "        for i in range(Agent.grid_size):\n",
    "            # print(f\"| {i+1} \", end='')\n",
    "            for j in range(Agent.grid_size):\n",
    "                 print(f\"| {game} \", end='')\n",
    "            print(\"| \")\n",
    "            print((Agent.grid_size*4+1)*\"-\")\n",
    "\n",
    "\n",
    "        "
   ]
  },
  {
   "cell_type": "code",
   "execution_count": 43,
   "metadata": {},
   "outputs": [
    {
     "name": "stdout",
     "output_type": "stream",
     "text": [
      "| 1 | 2 | 3 | \n",
      "-------------\n",
      "| X | X | X | \n",
      "-------------\n",
      "| X | X | X | \n",
      "-------------\n",
      "| X | X | X | \n",
      "-------------\n"
     ]
    }
   ],
   "source": [
    "Agent.grid_size=3\n",
    "Agent.Grid()"
   ]
  },
  {
   "cell_type": "code",
   "execution_count": 7,
   "metadata": {},
   "outputs": [],
   "source": [
    "agent = Agent(\"A\", (1, 0), (1, 1), (3, 3))"
   ]
  },
  {
   "cell_type": "code",
   "execution_count": null,
   "metadata": {},
   "outputs": [],
   "source": [
    " "
   ]
  }
 ],
 "metadata": {
  "kernelspec": {
   "display_name": "Python 3.8.15 ('tortilla')",
   "language": "python",
   "name": "python3"
  },
  "language_info": {
   "codemirror_mode": {
    "name": "ipython",
    "version": 3
   },
   "file_extension": ".py",
   "mimetype": "text/x-python",
   "name": "python",
   "nbconvert_exporter": "python",
   "pygments_lexer": "ipython3",
   "version": "3.8.15"
  },
  "orig_nbformat": 4,
  "vscode": {
   "interpreter": {
    "hash": "5d1db8b5f421508859dcca9a6ff48651931839b518b205df7f9f12ab5b0dce3a"
   }
  }
 },
 "nbformat": 4,
 "nbformat_minor": 2
}
