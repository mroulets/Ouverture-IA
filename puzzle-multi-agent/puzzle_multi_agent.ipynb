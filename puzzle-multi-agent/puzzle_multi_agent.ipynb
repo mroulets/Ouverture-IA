{
 "cells": [
  {
   "cell_type": "code",
   "execution_count": null,
   "metadata": {},
   "outputs": [],
   "source": []
  }
 ],
 "metadata": {
  "kernelspec": {
   "display_name": "Python 3.8.15 ('tortilla')",
   "language": "python",
   "name": "python3"
  },
  "language_info": {
   "name": "python",
   "version": "3.8.15"
  },
  "orig_nbformat": 4,
  "vscode": {
   "interpreter": {
    "hash": "5d1db8b5f421508859dcca9a6ff48651931839b518b205df7f9f12ab5b0dce3a"
   }
  }
 },
 "nbformat": 4,
 "nbformat_minor": 2
}
