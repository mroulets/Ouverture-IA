{
 "cells": [
  {
   "cell_type": "code",
   "execution_count": 1,
   "metadata": {},
   "outputs": [],
   "source": [
    "import numpy as np\n",
    "import random\n",
    "import re\n",
    "import time\n",
    "from threading import Thread, Semaphore"
   ]
  },
  {
   "cell_type": "code",
   "execution_count": 4,
   "metadata": {},
   "outputs": [],
   "source": [
    "class Puzzle:\n",
    "    agents = []\n",
    "    grid = []\n",
    "    # initialize the board with the size of the puzzle  \n",
    "    def __init__(self, row_size, fullfilness):\n",
    "        self.fullfilness = fullfilness/100\n",
    "        self.row_size = self.col_size = Puzzle.row_size = Puzzle.col_size= row_size\n",
    "        self.grid_size = self.row_size ** 2\n",
    "        \n",
    "        # randomly generate the position of the agents and values\n",
    "        pos = [(row,col) for row in range(0,self.row_size) for col in range(0,self.col_size)]\n",
    "        self.max_agents = self.grid_size-1\n",
    "        self.nbAgents = int(self.max_agents * self.fullfilness)\n",
    "        \n",
    "        self.target = random.sample(pos, k=self.nbAgents)\n",
    "        self.position = random.sample(pos, k=self.nbAgents)\n",
    "        \n",
    "        Puzzle.grid = [[None for _ in range(self.col_size)] for _ in range(self.row_size)]\n",
    "    \n",
    "    def showGrid():\n",
    "        print(\"\\n\".join([' '.join(list(map(str,x))) for x in Puzzle.grid]))\n",
    " \n",
    " \n",
    "               \n",
    "class Agent(Thread): \n",
    "    \n",
    "    semaphore = Semaphore(1)\n",
    "    \n",
    "    def __init__(self, current_postition, target_position):\n",
    "        Thread.__init__(self)\n",
    "        self.current_position = current_postition\n",
    "        self.target_position = target_position\n",
    "        Puzzle.grid[self.current_position[0]][self.current_position[1]] = self\n",
    "        Puzzle.agents.append(self)\n",
    "        self.running = True\n",
    "        \n",
    "    def run(self):\n",
    "        while self.running:\n",
    "            self.semaphore.acquire()\n",
    "            self.move_agent()\n",
    "            self.semaphore.release()\n",
    "            time.sleep(0.01)\n",
    "            \n",
    "    def move_agent(self):\n",
    "        neighbors = self.get_neighbors()\n",
    "        \n",
    "        for neighbor, pos in neighbors:\n",
    "            if neighbor == None:\n",
    "                current_position = self.current_position\n",
    "                self.current_position = pos\n",
    "                Puzzle.grid[self.current_position[0]][self.current_position[1]] = self\n",
    "                Puzzle.grid[current_position[0]][current_position[1]] = None  \n",
    "                return\n",
    "            \n",
    "\n",
    "    def get_neighbors(self):\n",
    "        row= self.current_position[0]\n",
    "        col= self.current_position[1]\n",
    "        \n",
    "        neighbors = []\n",
    "        if row > 0:\n",
    "            neighbors.append([Puzzle.grid[row-1][col], (row-1, col)])\n",
    "        if row < Puzzle.row_size-1:\n",
    "            neighbors.append([Puzzle.grid[row+1][col], (row+1, col)])\n",
    "        if col > 0:\n",
    "            neighbors.append([Puzzle.grid[row][col-1], (row, col-1)])\n",
    "        if col < Puzzle.col_size-1:\n",
    "            neighbors.append([Puzzle.grid[row][col+1], (row, col+1)])\n",
    "        return neighbors      \n",
    "    "
   ]
  },
  {
   "cell_type": "code",
   "execution_count": 5,
   "metadata": {},
   "outputs": [
    {
     "data": {
      "text/plain": [
       "[]"
      ]
     },
     "execution_count": 5,
     "metadata": {},
     "output_type": "execute_result"
    }
   ],
   "source": [
    "Puzzle.agents"
   ]
  },
  {
   "cell_type": "code",
   "execution_count": 7,
   "metadata": {},
   "outputs": [
    {
     "name": "stdout",
     "output_type": "stream",
     "text": [
      "<Agent(Thread-8, started 13239058432)> None <Agent(Thread-5, started 13188689920)>\n",
      "None <Agent(Thread-6, started 13205479424)> None\n",
      "<Agent(Thread-7, started 13222268928)> None None\n",
      "\n",
      "\n",
      "None <Agent(Thread-6, started 13205479424)> None\n",
      "<Agent(Thread-8, started 13239058432)> None <Agent(Thread-5, started 13188689920)>\n",
      "None <Agent(Thread-7, started 13222268928)> None\n",
      "\n",
      "\n",
      "None None None\n",
      "<Agent(Thread-7, started 13222268928)> <Agent(Thread-6, started 13205479424)> <Agent(Thread-8, started 13239058432)>\n",
      "None <Agent(Thread-5, started 13188689920)> None\n",
      "\n",
      "\n",
      "None None <Agent(Thread-5, started 13188689920)>\n",
      "<Agent(Thread-7, started 13222268928)> <Agent(Thread-8, started 13239058432)> None\n",
      "None <Agent(Thread-6, started 13205479424)> None\n",
      "\n",
      "\n",
      "None None <Agent(Thread-6, started 13205479424)>\n",
      "<Agent(Thread-8, started 13239058432)> <Agent(Thread-7, started 13222268928)> None\n",
      "<Agent(Thread-5, started 13188689920)> None None\n",
      "\n",
      "\n",
      "Timeout\n"
     ]
    }
   ],
   "source": [
    "Puzzle.agents = []\n",
    "Puzzle.grid=[]\n",
    "\n",
    "p = Puzzle(3, 30)\n",
    "for target, pos in zip(p.position, p.target):\n",
    "    Agent(pos, target)\n",
    "    \n",
    "\n",
    "for agent in Puzzle.agents:\n",
    "    agent.start()\n",
    "    \n",
    "max_time= 5 # seconds\n",
    "init_time = time.time()\n",
    "done = False\n",
    "\n",
    "while not done:\n",
    "    time.sleep(1)\n",
    "    Puzzle.showGrid()\n",
    "    print(\"\\n\")\n",
    "    \n",
    "    if time.time() - init_time > max_time:\n",
    "        done = True\n",
    "        print(\"Timeout\")"
   ]
  },
  {
   "cell_type": "code",
   "execution_count": 69,
   "metadata": {},
   "outputs": [
    {
     "data": {
      "text/plain": [
       "[[None, <Agent(Thread-73, initial)>, <Agent(Thread-74, initial)>],\n",
       " [None, <Agent(Thread-75, initial)>, None],\n",
       " [<Agent(Thread-77, initial)>,\n",
       "  <Agent(Thread-72, initial)>,\n",
       "  <Agent(Thread-76, initial)>]]"
      ]
     },
     "execution_count": 69,
     "metadata": {},
     "output_type": "execute_result"
    }
   ],
   "source": [
    "Puzzle.grid"
   ]
  },
  {
   "cell_type": "code",
   "execution_count": 25,
   "metadata": {},
   "outputs": [
    {
     "data": {
      "text/plain": [
       "(6, 8)"
      ]
     },
     "execution_count": 25,
     "metadata": {},
     "output_type": "execute_result"
    }
   ],
   "source": [
    "p.nbAgents, p.max_agents"
   ]
  },
  {
   "cell_type": "code",
   "execution_count": 32,
   "metadata": {},
   "outputs": [
    {
     "name": "stdout",
     "output_type": "stream",
     "text": [
      "[(0, 0), (0, 1), (0, 2), (1, 0), (1, 1), (1, 2), (2, 0), (2, 1), (2, 2)]\n",
      "{1: (5, 8), 2: (1, 5), 3: (2, 7), 4: (7, 3), 5: (3, 4), 6: (4, 2), 7: (6, 1), 8: (8, 6)}\n",
      "Unexpected exception formatting exception. Falling back to standard exception\n"
     ]
    },
    {
     "name": "stderr",
     "output_type": "stream",
     "text": [
      "Traceback (most recent call last):\n",
      "  File \"/Users/mariapaularoulet/opt/anaconda3/envs/tortilla/lib/python3.8/site-packages/IPython/core/interactiveshell.py\", line 3378, in run_code\n",
      "    exec(code_obj, self.user_global_ns, self.user_ns)\n",
      "  File \"/var/folders/_d/yrsztpyn10v0f0n2_c361fq80000gn/T/ipykernel_1090/1453857605.py\", line 110, in <module>\n",
      "    puzzle = Puzzle(row_test)\n",
      "  File \"/var/folders/_d/yrsztpyn10v0f0n2_c361fq80000gn/T/ipykernel_1090/1453857605.py\", line 15, in __init__\n",
      "    self.agents_temp = self.agents + [None]\n",
      "AttributeError: 'Puzzle' object has no attribute 'agents'\n",
      "\n",
      "During handling of the above exception, another exception occurred:\n",
      "\n",
      "Traceback (most recent call last):\n",
      "  File \"/Users/mariapaularoulet/opt/anaconda3/envs/tortilla/lib/python3.8/site-packages/IPython/core/interactiveshell.py\", line 1997, in showtraceback\n",
      "    stb = self.InteractiveTB.structured_traceback(\n",
      "  File \"/Users/mariapaularoulet/opt/anaconda3/envs/tortilla/lib/python3.8/site-packages/IPython/core/ultratb.py\", line 1112, in structured_traceback\n",
      "    return FormattedTB.structured_traceback(\n",
      "  File \"/Users/mariapaularoulet/opt/anaconda3/envs/tortilla/lib/python3.8/site-packages/IPython/core/ultratb.py\", line 1006, in structured_traceback\n",
      "    return VerboseTB.structured_traceback(\n",
      "  File \"/Users/mariapaularoulet/opt/anaconda3/envs/tortilla/lib/python3.8/site-packages/IPython/core/ultratb.py\", line 859, in structured_traceback\n",
      "    formatted_exception = self.format_exception_as_a_whole(etype, evalue, etb, number_of_lines_of_context,\n",
      "  File \"/Users/mariapaularoulet/opt/anaconda3/envs/tortilla/lib/python3.8/site-packages/IPython/core/ultratb.py\", line 812, in format_exception_as_a_whole\n",
      "    frames.append(self.format_record(r))\n",
      "  File \"/Users/mariapaularoulet/opt/anaconda3/envs/tortilla/lib/python3.8/site-packages/IPython/core/ultratb.py\", line 730, in format_record\n",
      "    result += ''.join(_format_traceback_lines(frame_info.lines, Colors, self.has_colors, lvals))\n",
      "  File \"/Users/mariapaularoulet/opt/anaconda3/envs/tortilla/lib/python3.8/site-packages/stack_data/utils.py\", line 144, in cached_property_wrapper\n",
      "    value = obj.__dict__[self.func.__name__] = self.func(obj)\n",
      "  File \"/Users/mariapaularoulet/opt/anaconda3/envs/tortilla/lib/python3.8/site-packages/stack_data/core.py\", line 720, in lines\n",
      "    pieces = self.included_pieces\n",
      "  File \"/Users/mariapaularoulet/opt/anaconda3/envs/tortilla/lib/python3.8/site-packages/stack_data/utils.py\", line 144, in cached_property_wrapper\n",
      "    value = obj.__dict__[self.func.__name__] = self.func(obj)\n",
      "  File \"/Users/mariapaularoulet/opt/anaconda3/envs/tortilla/lib/python3.8/site-packages/stack_data/core.py\", line 663, in included_pieces\n",
      "    scope_pieces = self.scope_pieces\n",
      "  File \"/Users/mariapaularoulet/opt/anaconda3/envs/tortilla/lib/python3.8/site-packages/stack_data/utils.py\", line 144, in cached_property_wrapper\n",
      "    value = obj.__dict__[self.func.__name__] = self.func(obj)\n",
      "  File \"/Users/mariapaularoulet/opt/anaconda3/envs/tortilla/lib/python3.8/site-packages/stack_data/core.py\", line 600, in scope_pieces\n",
      "    scope_start, scope_end = self.source.line_range(self.scope)\n",
      "  File \"/Users/mariapaularoulet/opt/anaconda3/envs/tortilla/lib/python3.8/site-packages/stack_data/core.py\", line 164, in line_range\n",
      "    return line_range(self.asttext(), node)\n",
      "AttributeError: 'Source' object has no attribute 'asttext'\n"
     ]
    }
   ],
   "source": [
    "class Puzzle:\n",
    "    # initialize the board with the size of the puzzle  \n",
    "    def __init__(self, row_size, fullfilness):\n",
    "        self.fullfilness = fullfilness\n",
    "        self.row_size = self.col_size = row_size\n",
    "        self.grid_size = self.row_size ** 2\n",
    "        \n",
    "        # randomly generate the position of the agents and values\n",
    "        pos = [(row,col) for row in range(1,self.row_size+1) for col in range(1,self.col_size+1)]\n",
    "        target = random.sample(pos, k=len(self.fullfilness * self.grid_size))\n",
    "        self.value = [i for i in range(1, self.grid_size)] \n",
    "        self.pos_row = random.sample(self.value, k=len(self.value))\n",
    "        self.pos_col= random.sample(self.value, k=len(self.value))\n",
    "        self.agent = dict({agent: (row, col) for agent,row,col in zip(self.value, self.pos_row, self.pos_col)}) \n",
    "        print(self.agent)\n",
    "        self.agents_temp = self.agents + [None]\n",
    "        random.shuffle(self.agents_temp)\n",
    "        self.targets = [self.agents_temp[x:x+ self.row_size] for x in range(0, len(self.agents_temp),self.row_size)]\n",
    "        \n",
    "        print(self.targets)\n",
    "        self.none_row = None\n",
    "        self.none_column = None\n",
    "        self.grid = self.agents_temp\n",
    "        \n",
    "    # function to randomly put the position of the agents\n",
    "    def shuffle_agents(self):\n",
    "        random.shuffle(self.grid)\n",
    "        self.grid = [self.grid[x:x+ self.row_size] for x in range(0, len(self.agents_temp),self.row_size)]\n",
    "\n",
    "    def get_neighbors(self, row, col):\n",
    "        neighbors = []\n",
    "        if row > 0:\n",
    "            neighbors.append(self.board[row-1][col])\n",
    "        if row < self.row_size:\n",
    "            neighbors.append(self.board[row+1][col])\n",
    "        if col > 0:\n",
    "            neighbors.append(self.board[row][col-1])\n",
    "        if col < self.col_size:\n",
    "            neighbors.append(self.board[row][col+1])\n",
    "        return neighbors\n",
    "\n",
    "\n",
    "    def move_agent(self, piece):\n",
    "        # move piece to empty space\n",
    "        row, column = piece.row, piece.col\n",
    "        empty_row, empty_column = self.none_row, self.none_column\n",
    "        \n",
    "        # swap the agent and none agent\n",
    "        self.grid[row][column], self.grid[empty_row][empty_column] = self.grid[empty_row][empty_column], self.grid[row][column]\n",
    "        \n",
    "        # update locations of the agent and none agent\n",
    "        piece.row, piece.col = empty_row, empty_column\n",
    "        self.none_row, self.none_column = row, column\n",
    "      \n",
    "    # if actual grid is equal to target grid then the puzzle is solved\n",
    "    def solved(self):\n",
    "        return self.grid == self.targets\n",
    "     \n",
    "    def print_board(self):\n",
    "        for row in self.grid:\n",
    "            print([p if p is not None else None for p in row])\n",
    "\n",
    "    def solve(self):\n",
    "        threads = []\n",
    "        for agent in self.agents:\n",
    "            agent = Agent(agent, self)\n",
    "            threads.append(agent)\n",
    "            agent.start()\n",
    "        \n",
    "        for thread in threads:\n",
    "            thread.join()\n",
    "            \n",
    "class Agent(Thread):\n",
    "    \n",
    "    def __init__(self, agents, puzzle):\n",
    "        Thread.__init__(self)\n",
    "        self.agents = agents\n",
    "        self.puzzle = puzzle\n",
    "        self.semaphore = Semaphore(1)\n",
    "        \n",
    "    def run(self):\n",
    "        while not self.puzzle.solved():\n",
    "            neighbors = self.puzzle.get_neighbors(self.agents.row, self.agents.col)\n",
    "            target = None\n",
    "            for nei in neighbors:\n",
    "                if self.agents.value == nei.value + 1:\n",
    "                    target = nei\n",
    "                    break\n",
    "                else: \n",
    "                    if nei.value == 1:\n",
    "                        target = nei\n",
    "                        break\n",
    "                \n",
    "            if target is not None:\n",
    "                self.semaphore.acquire()\n",
    "                if self.puzzle.solved():\n",
    "                    self.semaphore.release()\n",
    "                    break\n",
    "                \n",
    "                if target.row != self.puzzle.empty_row or target.col != self.puzzle.empty_col:\n",
    "                    self.puzzle.move_agent(target)\n",
    "                    print(f\"Agent {self.agents.name} moved {target.name} to {target.row}, {target.col}\")\n",
    "\n",
    "                self.semaphore.release() \n",
    "                \n",
    "            else:\n",
    "                time.sleep(0.1)               \n",
    "        \n",
    "if __name__ == '__main__':\n",
    "    row_test = int(input(\"Enter the size of the puzzle: \"))\n",
    "    fullfilness = int(input(\"Enter the ratio of fullfilness [0,1]: \"))\n",
    "    \n",
    "    puzzle = Puzzle(row_test, fullfilness)\n",
    "    puzzle.shuffle_agents()\n",
    "    print(\"Initial Board:\")\n",
    "    puzzle.print_board()\n",
    "    \n",
    "    start_time = time.time()\n",
    "    puzzle.solve()\n",
    "    end_time = time.time()\n",
    "\n",
    "    print(\"Solved Board:\")\n",
    "    puzzle.print_board()\n",
    "    print(\"Time taken: {:.4f} seconds\".format(end_time - start_time))\n",
    "        "
   ]
  },
  {
   "cell_type": "code",
   "execution_count": 150,
   "metadata": {},
   "outputs": [],
   "source": [
    "random"
   ]
  },
  {
   "cell_type": "code",
   "execution_count": 164,
   "metadata": {},
   "outputs": [],
   "source": [
    "s = [1,2, 3, 4,5,6]"
   ]
  },
  {
   "cell_type": "code",
   "execution_count": 167,
   "metadata": {},
   "outputs": [],
   "source": [
    "s.insert(4, None)"
   ]
  }
 ],
 "metadata": {
  "kernelspec": {
   "display_name": "Python 3.8.15 ('tortilla')",
   "language": "python",
   "name": "python3"
  },
  "language_info": {
   "codemirror_mode": {
    "name": "ipython",
    "version": 3
   },
   "file_extension": ".py",
   "mimetype": "text/x-python",
   "name": "python",
   "nbconvert_exporter": "python",
   "pygments_lexer": "ipython3",
   "version": "3.8.15"
  },
  "orig_nbformat": 4,
  "vscode": {
   "interpreter": {
    "hash": "5d1db8b5f421508859dcca9a6ff48651931839b518b205df7f9f12ab5b0dce3a"
   }
  }
 },
 "nbformat": 4,
 "nbformat_minor": 2
}
